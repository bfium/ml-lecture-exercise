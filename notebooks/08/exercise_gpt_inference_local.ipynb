{
 "cells": [
  {
   "cell_type": "markdown",
   "metadata": {},
   "source": [
    "<img style=\"float: right;\" src=\"../../assets/htwlogo.svg\">\n",
    "\n",
    "# Exercise: Local LLM inference\n",
    "\n",
    "**Author**: _Erik Rodner_ <br>\n",
    "\n",
    "In this exercise, we will run local LLM inference. Instead of triggering a remote \n",
    "API, you can also download a complete LLM (some smaller ones for sure) and run inference locally."
   ]
  },
  {
   "cell_type": "code",
   "execution_count": null,
   "metadata": {},
   "outputs": [],
   "source": [
    "from transformers import pipeline\n",
    "\n",
    "# Load the text generation pipeline - the whole model is downladed\n",
    "# automatically from huggingface.co\n",
    "generator = pipeline('text-generation', model='gpt2')\n"
   ]
  },
  {
   "cell_type": "markdown",
   "metadata": {},
   "source": [
    "## Example for generating a text\n",
    "\n",
    "GPT-2 is not a great model compared to todays standards of course. But let's try this out:"
   ]
  },
  {
   "cell_type": "code",
   "execution_count": null,
   "metadata": {},
   "outputs": [],
   "source": [
    "prompt_text = \"Once upon a time\"\n",
    "generated_text = generator(prompt_text, \n",
    "                           max_length=50,\n",
    "                           truncation=True, \n",
    "                           num_return_sequences=1, \n",
    "                           temperature=0.9)\n",
    "print (generated_text[0][\"generated_text\"])"
   ]
  },
  {
   "cell_type": "markdown",
   "metadata": {},
   "source": [
    "## Sentiment analysis with a mini dataset\n",
    "\n",
    "In the following, we want to build a quick sentiment classifier with the above model. \n",
    "We will not train the model but rather use proper prompting to establish the task.\n",
    "First of all, here is a small dataset:"
   ]
  },
  {
   "cell_type": "code",
   "execution_count": null,
   "metadata": {},
   "outputs": [],
   "source": [
    "movie_reviews = [\"The cinematography was stunning, and the plot kept me hooked until the end.\",\n",
    "    \"Terrible acting and a predictable storyline made this movie unbearable.\",\n",
    "    \"An absolute masterpiece! I would watch it again and again.\",\n",
    "    \"The characters lacked depth, and the pacing was too slow for my taste.\",\n",
    "    \"The special effects were groundbreaking and enhanced the overall experience.\",\n",
    "    \"I fell asleep halfway through—one of the most boring movies I've ever seen.\",\n",
    "    \"A delightful blend of humor and heart, with a memorable cast.\",\n",
    "    \"The movie was too long and filled with unnecessary scenes.\",\n",
    "    \"This film had a fresh and innovative approach to storytelling.\",\n",
    "    \"I regret spending my time and money on this poorly executed film.\",\n",
    "    \"The dialogue was witty and engaging, making it a joy to watch.\",\n",
    "    \"Overly cliché and filled with cringe-worthy moments.\",\n",
    "    \"A visually stunning movie with a compelling story to match.\",\n",
    "    \"The plot holes were so glaring that it ruined the entire experience.\",\n",
    "    \"This is a must-see for anyone who loves action-packed adventures.\",\n",
    "    \"I found the characters unrealistic and hard to relate to.\",\n",
    "    \"The director's vision truly shines in this emotional rollercoaster.\",\n",
    "    \"It was a mediocre film with nothing particularly noteworthy.\",\n",
    "    \"The soundtrack complemented the movie perfectly and elevated key moments.\",\n",
    "    \"A complete disaster of a film—it's hard to believe this got released.\"\n",
    "]\n"
   ]
  },
  {
   "cell_type": "code",
   "execution_count": null,
   "metadata": {},
   "outputs": [],
   "source": [
    "prompt = lambda review: \"The review \\'{review}\\' is (positive/negative): \"\n",
    "my_sentiment_classifier = \n",
    "generated_text = generator(prompt_text, \n",
    "                           max_length=50,\n",
    "                           truncation=True, \n",
    "                           num_return_sequences=1, \n",
    "                           temperature=0.9)\n",
    "print (generated_text[0][\"generated_text\"])"
   ]
  }
 ],
 "metadata": {
  "kernelspec": {
   "display_name": "ml-exercise-pip",
   "language": "python",
   "name": "python3"
  },
  "language_info": {
   "codemirror_mode": {
    "name": "ipython",
    "version": 3
   },
   "file_extension": ".py",
   "mimetype": "text/x-python",
   "name": "python",
   "nbconvert_exporter": "python",
   "pygments_lexer": "ipython3",
   "version": "3.9.20"
  }
 },
 "nbformat": 4,
 "nbformat_minor": 2
}
