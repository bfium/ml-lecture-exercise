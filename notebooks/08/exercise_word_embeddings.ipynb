{
 "cells": [
  {
   "cell_type": "markdown",
   "metadata": {},
   "source": [
    "<img style=\"float: right;\" src=\"../../assets/htwlogo.svg\">\n",
    "\n",
    "# Exercise: Word-Embeddings\n",
    "\n",
    "**Author**: _Erik Rodner_ <br>\n",
    "\n",
    "In this exercise, we will play with word embeddings. The idea was inspired by 3blue1brown.\n"
   ]
  },
  {
   "cell_type": "code",
   "execution_count": null,
   "metadata": {},
   "outputs": [],
   "source": [
    "import gensim.downloader\n",
    "import matplotlib.pyplot as plt\n",
    "import numpy as np\n",
    "from sklearn.decomposition import PCA"
   ]
  },
  {
   "cell_type": "code",
   "execution_count": null,
   "metadata": {},
   "outputs": [],
   "source": [
    "model = gensim.downloader.load('glove-wiki-gigaword-100')\n"
   ]
  },
  {
   "cell_type": "code",
   "execution_count": null,
   "metadata": {},
   "outputs": [],
   "source": [
    "embedding_size = 3\n",
    "pca = PCA(n_components=3)\n",
    "# P = np.random.randn(embedding_size, 100)- just a random transformation as alternative\n",
    "\n",
    "words = [\"king\", \"queen\", \"sofa\", \"chair\", \"man\", \"boy\", \"girl\", \"crown\", \"throne\", \"fighting\", \"ruling\", \"singing\"]\n",
    "\n",
    "embeddings = np.zeros((len(words), 100))\n",
    "for index, w in enumerate(words):\n",
    "    embeddings[index] = model[w]\n",
    "\n",
    "embeddings = pca.fit_transform(embeddings)"
   ]
  },
  {
   "cell_type": "code",
   "execution_count": null,
   "metadata": {},
   "outputs": [],
   "source": [
    "fig = plt.figure()\n",
    "ax = fig.add_subplot(projection='3d')\n",
    "ax.scatter(embeddings[:, 0], embeddings[:, 1], embeddings[:, 2])\n",
    "\n",
    "for i, txt in enumerate(words):\n",
    "    ax.text(embeddings[i, 0], embeddings[i, 1], embeddings[i, 2], txt)"
   ]
  },
  {
   "cell_type": "code",
   "execution_count": null,
   "metadata": {},
   "outputs": [],
   "source": []
  }
 ],
 "metadata": {
  "kernelspec": {
   "display_name": "ml-exercise-pip",
   "language": "python",
   "name": "python3"
  },
  "language_info": {
   "codemirror_mode": {
    "name": "ipython",
    "version": 3
   },
   "file_extension": ".py",
   "mimetype": "text/x-python",
   "name": "python",
   "nbconvert_exporter": "python",
   "pygments_lexer": "ipython3",
   "version": "3.9.20"
  }
 },
 "nbformat": 4,
 "nbformat_minor": 2
}
